{
 "cells": [
  {
   "cell_type": "code",
   "execution_count": 12,
   "metadata": {},
   "outputs": [],
   "source": [
    "from keras.models import Sequential\n",
    "from keras.layers import Dense\n",
    "from keras.layers import Convolution2D\n",
    "from keras.layers import MaxPooling2D\n",
    "from keras.layers import Flatten"
   ]
  },
  {
   "cell_type": "code",
   "execution_count": 13,
   "metadata": {},
   "outputs": [],
   "source": [
    "from keras.preprocessing.image import ImageDataGenerator\n",
    "train_datagen = ImageDataGenerator(rescale = 1./255,shear_range = 0.2,horizontal_flip = True)\n",
    "test_datagen = ImageDataGenerator(rescale = 1./255)"
   ]
  },
  {
   "cell_type": "code",
   "execution_count": 14,
   "metadata": {},
   "outputs": [
    {
     "name": "stdout",
     "output_type": "stream",
     "text": [
      "Found 2527 images belonging to 6 classes.\n",
      "Found 467 images belonging to 6 classes.\n"
     ]
    }
   ],
   "source": [
    "x_train = train_datagen.flow_from_directory(r\"C:\\Users\\srilekha\\Downloads\\Garbage classification\\Garbage classification\\training_set\",target_size = (64,64),batch_size = 32,class_mode=\"categorical\")\n",
    "x_test = test_datagen.flow_from_directory(r\"C:\\Users\\srilekha\\Downloads\\Garbage classification\\Garbage classification\\testing_set\",target_size = (64,64),batch_size = 32,class_mode=\"categorical\")"
   ]
  },
  {
   "cell_type": "code",
   "execution_count": 15,
   "metadata": {},
   "outputs": [],
   "source": [
    "model = Sequential()"
   ]
  },
  {
   "cell_type": "code",
   "execution_count": 16,
   "metadata": {},
   "outputs": [],
   "source": [
    "model.add(Convolution2D(32,(3,3),input_shape = (64,64,3),activation = \"relu\"))"
   ]
  },
  {
   "cell_type": "code",
   "execution_count": 17,
   "metadata": {},
   "outputs": [],
   "source": [
    "model.add(MaxPooling2D(pool_size = (2,2)))"
   ]
  },
  {
   "cell_type": "code",
   "execution_count": 18,
   "metadata": {},
   "outputs": [],
   "source": [
    "model.add(Flatten())"
   ]
  },
  {
   "cell_type": "code",
   "execution_count": 19,
   "metadata": {},
   "outputs": [
    {
     "name": "stderr",
     "output_type": "stream",
     "text": [
      "C:\\Users\\srilekha\\anaconda3\\lib\\site-packages\\ipykernel_launcher.py:1: UserWarning: Update your `Dense` call to the Keras 2 API: `Dense(units=128, activation=\"relu\", kernel_initializer=\"random_uniform\")`\n",
      "  \"\"\"Entry point for launching an IPython kernel.\n"
     ]
    }
   ],
   "source": [
    "model.add(Dense(units = 128,init = \"random_uniform\",activation = \"relu\"))"
   ]
  },
  {
   "cell_type": "code",
   "execution_count": 20,
   "metadata": {},
   "outputs": [
    {
     "name": "stderr",
     "output_type": "stream",
     "text": [
      "C:\\Users\\srilekha\\anaconda3\\lib\\site-packages\\ipykernel_launcher.py:1: UserWarning: Update your `Dense` call to the Keras 2 API: `Dense(units=6, activation=\"softmax\", kernel_initializer=\"random_uniform\")`\n",
      "  \"\"\"Entry point for launching an IPython kernel.\n"
     ]
    }
   ],
   "source": [
    "model.add(Dense(units = 6,init = \"random_uniform\",activation = \"softmax\"))"
   ]
  },
  {
   "cell_type": "code",
   "execution_count": 21,
   "metadata": {},
   "outputs": [
    {
     "name": "stdout",
     "output_type": "stream",
     "text": [
      "WARNING:tensorflow:From C:\\Users\\srilekha\\anaconda3\\lib\\site-packages\\keras\\optimizers.py:790: The name tf.train.Optimizer is deprecated. Please use tf.compat.v1.train.Optimizer instead.\n",
      "\n",
      "WARNING:tensorflow:From C:\\Users\\srilekha\\anaconda3\\lib\\site-packages\\keras\\backend\\tensorflow_backend.py:3295: The name tf.log is deprecated. Please use tf.math.log instead.\n",
      "\n"
     ]
    }
   ],
   "source": [
    "model.compile(optimizer = \"adam\",loss = \"categorical_crossentropy\",metrics = [\"accuracy\"])"
   ]
  },
  {
   "cell_type": "code",
   "execution_count": 22,
   "metadata": {},
   "outputs": [
    {
     "data": {
      "text/plain": [
       "{'cardboard': 0, 'glass': 1, 'metal': 2, 'paper': 3, 'plastic': 4, 'trash': 5}"
      ]
     },
     "execution_count": 22,
     "metadata": {},
     "output_type": "execute_result"
    }
   ],
   "source": [
    "x_train.class_indices"
   ]
  },
  {
   "cell_type": "code",
   "execution_count": 25,
   "metadata": {},
   "outputs": [
    {
     "name": "stdout",
     "output_type": "stream",
     "text": [
      "Epoch 1/50\n",
      "79/78 [==============================] - 40s 510ms/step - loss: 0.0603 - acc: 0.9893 - val_loss: 0.0844 - val_acc: 0.9876\n",
      "Epoch 2/50\n",
      "79/78 [==============================] - 38s 476ms/step - loss: 0.0552 - acc: 0.9909 - val_loss: 0.0306 - val_acc: 0.9929\n",
      "Epoch 3/50\n",
      "79/78 [==============================] - 37s 464ms/step - loss: 0.0531 - acc: 0.9909 - val_loss: 0.0711 - val_acc: 0.9893\n",
      "Epoch 4/50\n",
      "79/78 [==============================] - 38s 485ms/step - loss: 0.0561 - acc: 0.9901 - val_loss: 0.0922 - val_acc: 0.9876\n",
      "Epoch 5/50\n",
      "79/78 [==============================] - 37s 474ms/step - loss: 0.0485 - acc: 0.9905 - val_loss: 0.0657 - val_acc: 0.9964\n",
      "Epoch 6/50\n",
      "79/78 [==============================] - 37s 474ms/step - loss: 0.0407 - acc: 0.9937 - val_loss: 0.0772 - val_acc: 0.9876\n",
      "Epoch 7/50\n",
      "79/78 [==============================] - 38s 479ms/step - loss: 0.0499 - acc: 0.9905 - val_loss: 0.0937 - val_acc: 0.9893\n",
      "Epoch 8/50\n",
      "79/78 [==============================] - 37s 472ms/step - loss: 0.0479 - acc: 0.9925 - val_loss: 0.0593 - val_acc: 0.9947\n",
      "Epoch 9/50\n",
      "79/78 [==============================] - 35s 443ms/step - loss: 0.0598 - acc: 0.9866 - val_loss: 0.0692 - val_acc: 0.9893\n",
      "Epoch 10/50\n",
      "79/78 [==============================] - 38s 480ms/step - loss: 0.0375 - acc: 0.9941 - val_loss: 0.0491 - val_acc: 0.9964\n",
      "Epoch 11/50\n",
      "79/78 [==============================] - 37s 467ms/step - loss: 0.0346 - acc: 0.9956 - val_loss: 0.0535 - val_acc: 0.9947\n",
      "Epoch 12/50\n",
      "79/78 [==============================] - 37s 472ms/step - loss: 0.0420 - acc: 0.9937 - val_loss: 0.0757 - val_acc: 0.9964\n",
      "Epoch 13/50\n",
      "79/78 [==============================] - 38s 478ms/step - loss: 0.0340 - acc: 0.9953 - val_loss: 0.0534 - val_acc: 0.9964\n",
      "Epoch 14/50\n",
      "79/78 [==============================] - 37s 468ms/step - loss: 0.0324 - acc: 0.9941 - val_loss: 0.0436 - val_acc: 0.9964\n",
      "Epoch 15/50\n",
      "79/78 [==============================] - 37s 468ms/step - loss: 0.0251 - acc: 0.9968 - val_loss: 0.0396 - val_acc: 0.9964\n",
      "Epoch 16/50\n",
      "79/78 [==============================] - 38s 478ms/step - loss: 0.0306 - acc: 0.9949 - val_loss: 0.0714 - val_acc: 0.9947\n",
      "Epoch 17/50\n",
      "79/78 [==============================] - 37s 474ms/step - loss: 0.0286 - acc: 0.9964 - val_loss: 0.0356 - val_acc: 0.9982\n",
      "Epoch 18/50\n",
      "79/78 [==============================] - 36s 462ms/step - loss: 0.0182 - acc: 0.9984 - val_loss: 0.0361 - val_acc: 0.9982\n",
      "Epoch 19/50\n",
      "79/78 [==============================] - 38s 482ms/step - loss: 0.0977 - acc: 0.9699 - val_loss: 0.0494 - val_acc: 0.9911\n",
      "Epoch 20/50\n",
      "79/78 [==============================] - 35s 440ms/step - loss: 0.1333 - acc: 0.9600 - val_loss: 0.1626 - val_acc: 0.9564\n",
      "Epoch 21/50\n",
      "79/78 [==============================] - 37s 468ms/step - loss: 0.0957 - acc: 0.9755 - val_loss: 0.0999 - val_acc: 0.9751\n",
      "Epoch 22/50\n",
      "79/78 [==============================] - 37s 468ms/step - loss: 0.1036 - acc: 0.9727 - val_loss: 0.0630 - val_acc: 0.9947\n",
      "Epoch 23/50\n",
      "79/78 [==============================] - 37s 470ms/step - loss: 0.1374 - acc: 0.9600 - val_loss: 0.1409 - val_acc: 0.9751\n",
      "Epoch 24/50\n",
      "79/78 [==============================] - 37s 470ms/step - loss: 0.0582 - acc: 0.9862 - val_loss: 0.0459 - val_acc: 0.9964\n",
      "Epoch 25/50\n",
      "79/78 [==============================] - 37s 464ms/step - loss: 0.0521 - acc: 0.9885 - val_loss: 0.0797 - val_acc: 0.9909\n",
      "Epoch 26/50\n",
      "79/78 [==============================] - 37s 472ms/step - loss: 0.0401 - acc: 0.9929 - val_loss: 0.0799 - val_acc: 0.9893\n",
      "Epoch 27/50\n",
      "79/78 [==============================] - 35s 449ms/step - loss: 0.0273 - acc: 0.9956 - val_loss: 0.0355 - val_acc: 0.9982\n",
      "Epoch 28/50\n",
      "79/78 [==============================] - 37s 468ms/step - loss: 0.0262 - acc: 0.9956 - val_loss: 0.0316 - val_acc: 0.9982\n",
      "Epoch 29/50\n",
      "79/78 [==============================] - 38s 481ms/step - loss: 0.0168 - acc: 0.9976 - val_loss: 0.0404 - val_acc: 0.9947\n",
      "Epoch 30/50\n",
      "79/78 [==============================] - 38s 477ms/step - loss: 0.0190 - acc: 0.9976 - val_loss: 0.0458 - val_acc: 0.9945\n",
      "Epoch 31/50\n",
      "79/78 [==============================] - 38s 475ms/step - loss: 0.0253 - acc: 0.9964 - val_loss: 0.0629 - val_acc: 0.9964\n",
      "Epoch 32/50\n",
      "79/78 [==============================] - 38s 478ms/step - loss: 0.0129 - acc: 0.9988 - val_loss: 0.0033 - val_acc: 1.0000\n",
      "Epoch 33/50\n",
      "79/78 [==============================] - 38s 481ms/step - loss: 0.0194 - acc: 0.9976 - val_loss: 0.0343 - val_acc: 0.9964\n",
      "Epoch 34/50\n",
      "79/78 [==============================] - 37s 468ms/step - loss: 0.0213 - acc: 0.9980 - val_loss: 0.0613 - val_acc: 0.9964\n",
      "Epoch 35/50\n",
      "79/78 [==============================] - 38s 475ms/step - loss: 0.0224 - acc: 0.9968 - val_loss: 0.0337 - val_acc: 0.9982\n",
      "Epoch 36/50\n",
      "79/78 [==============================] - 37s 471ms/step - loss: 0.0140 - acc: 0.9984 - val_loss: 0.0314 - val_acc: 0.9982\n",
      "Epoch 37/50\n",
      "79/78 [==============================] - 36s 453ms/step - loss: 0.0155 - acc: 0.9984 - val_loss: 0.0332 - val_acc: 0.9982\n",
      "Epoch 38/50\n",
      "79/78 [==============================] - 37s 466ms/step - loss: 0.0219 - acc: 0.9976 - val_loss: 0.0604 - val_acc: 0.9964\n",
      "Epoch 39/50\n",
      "79/78 [==============================] - 36s 461ms/step - loss: 0.0182 - acc: 0.9980 - val_loss: 0.0374 - val_acc: 0.9964\n",
      "Epoch 40/50\n",
      "79/78 [==============================] - 37s 468ms/step - loss: 0.0191 - acc: 0.9980 - val_loss: 0.0312 - val_acc: 0.9982\n",
      "Epoch 41/50\n",
      "79/78 [==============================] - 38s 481ms/step - loss: 0.0114 - acc: 0.9992 - val_loss: 0.0311 - val_acc: 0.9982\n",
      "Epoch 42/50\n",
      "79/78 [==============================] - 38s 476ms/step - loss: 0.0260 - acc: 0.9953 - val_loss: 0.0365 - val_acc: 0.9947\n",
      "Epoch 43/50\n",
      "79/78 [==============================] - 37s 463ms/step - loss: 0.0257 - acc: 0.9964 - val_loss: 0.0999 - val_acc: 0.9893\n",
      "Epoch 44/50\n",
      "79/78 [==============================] - 38s 477ms/step - loss: 0.1013 - acc: 0.9707 - val_loss: 0.0637 - val_acc: 0.9876\n",
      "Epoch 45/50\n",
      "79/78 [==============================] - 37s 473ms/step - loss: 0.0604 - acc: 0.9846 - val_loss: 0.0406 - val_acc: 0.9982\n",
      "Epoch 46/50\n",
      "79/78 [==============================] - 36s 459ms/step - loss: 0.0246 - acc: 0.9960 - val_loss: 0.0405 - val_acc: 0.9964\n",
      "Epoch 47/50\n",
      "79/78 [==============================] - 37s 473ms/step - loss: 0.0381 - acc: 0.9917 - val_loss: 0.0804 - val_acc: 0.9947\n",
      "Epoch 48/50\n",
      "79/78 [==============================] - 37s 474ms/step - loss: 0.0301 - acc: 0.9937 - val_loss: 0.0379 - val_acc: 0.9982\n",
      "Epoch 49/50\n",
      "79/78 [==============================] - 38s 477ms/step - loss: 0.0345 - acc: 0.9945 - val_loss: 0.0392 - val_acc: 0.9982\n",
      "Epoch 50/50\n",
      "79/78 [==============================] - 38s 479ms/step - loss: 0.0200 - acc: 0.9976 - val_loss: 0.0513 - val_acc: 0.9927\n"
     ]
    },
    {
     "data": {
      "text/plain": [
       "<keras.callbacks.History at 0x2518ec17a48>"
      ]
     },
     "execution_count": 25,
     "metadata": {},
     "output_type": "execute_result"
    }
   ],
   "source": [
    "model.fit_generator(x_train,steps_per_epoch = 2527/32,epochs = 50,validation_data = x_test,validation_steps = 558/32)"
   ]
  },
  {
   "cell_type": "code",
   "execution_count": 24,
   "metadata": {},
   "outputs": [],
   "source": [
    "model.save(\"GarbageCollection.h5\")\n"
   ]
  },
  {
   "cell_type": "code",
   "execution_count": null,
   "metadata": {},
   "outputs": [],
   "source": []
  }
 ],
 "metadata": {
  "kernelspec": {
   "display_name": "Python 3",
   "language": "python",
   "name": "python3"
  },
  "language_info": {
   "codemirror_mode": {
    "name": "ipython",
    "version": 3
   },
   "file_extension": ".py",
   "mimetype": "text/x-python",
   "name": "python",
   "nbconvert_exporter": "python",
   "pygments_lexer": "ipython3",
   "version": "3.7.6"
  }
 },
 "nbformat": 4,
 "nbformat_minor": 4
}
